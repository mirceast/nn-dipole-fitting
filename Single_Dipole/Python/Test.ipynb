{
 "cells": [
  {
   "cell_type": "code",
   "execution_count": 1,
   "metadata": {},
   "outputs": [
    {
     "name": "stdout",
     "output_type": "stream",
     "text": [
      "CUDA is available!  Training on GPU ...\n",
      "Using GeForce RTX 2070\n"
     ]
    }
   ],
   "source": [
    "from misc import *\n",
    "from torch.optim.lr_scheduler import ExponentialLR, ReduceLROnPlateau, MultiStepLR\n",
    "\n",
    "%load_ext autoreload\n",
    "%autoreload 2\n",
    "%matplotlib inline \n",
    "%config InlineBackend.figure_format = 'retina'\n",
    "\n",
    "# Parameters for loading the .mat file\n",
    "data_dir = \"C:/Users/Mircea/Google Drive/Data/nn-dipole-fitting/\"\n",
    "path_list = [each.replace(\"\\\\\",\"/\") for each in glob(data_dir + \"Dataset SNR*.mat\")]\n",
    "# path_train = data_dir + \"Clean Dataset Short.mat\"\n",
    "path_train = data_dir + \"Clean Dataset.mat\"\n",
    "\n",
    "# Define parameters\n",
    "batch_size = 50000\n",
    "n_epochs = 10\n",
    "\n",
    "device = check_cuda()"
   ]
  },
  {
   "cell_type": "code",
   "execution_count": 2,
   "metadata": {},
   "outputs": [],
   "source": [
    "# Read the data if not already in memory\n",
    "if \"dataset\" not in globals():\n",
    "    dataset = Dataset(path_train, path_list[-1])"
   ]
  },
  {
   "cell_type": "code",
   "execution_count": 3,
   "metadata": {},
   "outputs": [],
   "source": [
    "from misc import dipfit\n",
    "model = dipfit(dataset.n_chan)\n",
    "model = model.to(device)\n",
    "\n",
    "optimizer = optim.Adam(model.parameters(),3e-4) "
   ]
  },
  {
   "cell_type": "code",
   "execution_count": 4,
   "metadata": {
    "scrolled": true
   },
   "outputs": [
    {
     "name": "stdout",
     "output_type": "stream",
     "text": [
      "8 epochs ready in 857.942 seconds. Minimum validation loss: 1.039565\n",
      "Train batch time: 0.02437 ± 0.00032 seconds\n",
      "Valid batch time: 0.02016 ± 0.00035 seconds\n"
     ]
    }
   ],
   "source": [
    "model, train_loss, valid_loss = train(model,dataset,n_epochs,batch_size,device,optimizer,\"best_model.pt\",show_every=1)"
   ]
  },
  {
   "cell_type": "code",
   "execution_count": 5,
   "metadata": {
    "scrolled": true
   },
   "outputs": [
    {
     "name": "stdout",
     "output_type": "stream",
     "text": [
      "Localization error: \n",
      "NN: 1.042 cm\n",
      "LM: 1.071 cm\n"
     ]
    }
   ],
   "source": [
    "# Test dipoles location - ground truth\n",
    "test_dipoles = torch.from_numpy(dataset.data_test[\"dipoles\"]).to(device)\n",
    "# Calculate test loss for the network\n",
    "pred_dipoles_nn = model(torch.from_numpy(dataset.data_test[\"fields\"]).to(device))\n",
    "loc_error_nn = torch.mean(get_localization_error(pred_dipoles_nn,test_dipoles)).item()\n",
    "# Test loss for Levenberg-Marquadt\n",
    "pred_dipoles_lm = torch.from_numpy(dataset.data_test[\"dipoles_estimated\"]).to(device)\n",
    "loc_error_lm = torch.mean(get_localization_error(pred_dipoles_lm,test_dipoles)).item()\n",
    "print(f\"Localization error: \\nNN: {loc_error_nn:.3f} cm\\nLM: {loc_error_lm:.3f} cm\")"
   ]
  }
 ],
 "metadata": {
  "kernelspec": {
   "display_name": "Python 3",
   "language": "python",
   "name": "python3"
  },
  "language_info": {
   "codemirror_mode": {
    "name": "ipython",
    "version": 3
   },
   "file_extension": ".py",
   "mimetype": "text/x-python",
   "name": "python",
   "nbconvert_exporter": "python",
   "pygments_lexer": "ipython3",
   "version": "3.7.2"
  }
 },
 "nbformat": 4,
 "nbformat_minor": 2
}
