{
 "cells": [
  {
   "cell_type": "code",
   "execution_count": 1,
   "metadata": {},
   "outputs": [
    {
     "name": "stdout",
     "output_type": "stream",
     "text": [
      "CUDA is available!  Training on GPU ...\n",
      "Using GeForce RTX 2070\n"
     ]
    }
   ],
   "source": [
    "from misc import *\n",
    "\n",
    "# First we should load the .mat file\n",
    "data_dir = \"C:/Users/Mircea/Google Drive/Data/nn-dipole-fitting/\"\n",
    "path_list = [each.replace(\"\\\\\",\"/\") for each in glob(data_dir + \"Dataset SNR*.mat\")]\n",
    "\n",
    "# check if CUDA is available\n",
    "use_cuda = torch.cuda.is_available()\n",
    "if not use_cuda:\n",
    "    print('CUDA is not available.  Training on CPU ...')\n",
    "    device = \"cpu\"\n",
    "else:\n",
    "    print('CUDA is available!  Training on GPU ...')\n",
    "    device = torch.device(\"cuda:0\")\n",
    "    print(\"Using\",torch.cuda.get_device_name(device))"
   ]
  },
  {
   "cell_type": "code",
   "execution_count": 2,
   "metadata": {},
   "outputs": [],
   "source": [
    "# Read the data if not already in memory\n",
    "if \"data_train\" not in globals():\n",
    "    dataset = dataset_from_mat(path_list[0])\n",
    "\n",
    "min_location = torch.from_numpy(dataset.data_train[\"min_location\"].T).to(device)\n",
    "max_location = torch.from_numpy(dataset.data_train[\"max_location\"].T).to(device)\n",
    "min_moment = torch.from_numpy(dataset.data_train[\"min_moment\"].T).to(device)\n",
    "max_moment = torch.from_numpy(dataset.data_train[\"max_moment\"].T).to(device)"
   ]
  },
  {
   "cell_type": "code",
   "execution_count": 3,
   "metadata": {},
   "outputs": [],
   "source": [
    "# Define parameters\n",
    "batch_size = 50000\n",
    "n_epochs = 100"
   ]
  },
  {
   "cell_type": "code",
   "execution_count": 4,
   "metadata": {},
   "outputs": [],
   "source": [
    "model = dipfit(dataset.n_chan,0)\n",
    "model = model.to(device)\n",
    "criterion = nn.MSELoss()\n",
    "optimizer = optim.Adam(model.parameters(),3e-4) \n",
    "# optimizer = optim.Adam(model.parameters(),3e-5) "
   ]
  },
  {
   "cell_type": "code",
   "execution_count": 5,
   "metadata": {},
   "outputs": [
    {
     "name": "stdout",
     "output_type": "stream",
     "text": [
      "Epoch 1 done in 1.58 seconds. \tTraining Loss: 0.069880840 \tValidation Loss: 0.067392714\n",
      "Epoch 2 done in 1.21 seconds. \tTraining Loss: 0.063915194 \tValidation Loss: 0.057642531\n",
      "Epoch 3 done in 1.21 seconds. \tTraining Loss: 0.049544005 \tValidation Loss: 0.042949745\n",
      "Epoch 4 done in 1.21 seconds. \tTraining Loss: 0.041155379 \tValidation Loss: 0.040377518\n",
      "Epoch 5 done in 1.21 seconds. \tTraining Loss: 0.040017145 \tValidation Loss: 0.039749386\n",
      "Epoch 6 done in 1.21 seconds. \tTraining Loss: 0.039548940 \tValidation Loss: 0.039302764\n",
      "Epoch 7 done in 1.21 seconds. \tTraining Loss: 0.039014063 \tValidation Loss: 0.038616462\n",
      "Epoch 8 done in 1.21 seconds. \tTraining Loss: 0.038027596 \tValidation Loss: 0.037172981\n",
      "Epoch 9 done in 1.21 seconds. \tTraining Loss: 0.035876546 \tValidation Loss: 0.034220664\n",
      "Epoch 10 done in 1.21 seconds. \tTraining Loss: 0.032842178 \tValidation Loss: 0.031522740\n",
      "Epoch 11 done in 1.21 seconds. \tTraining Loss: 0.030403491 \tValidation Loss: 0.029473187\n",
      "Epoch 12 done in 1.21 seconds. \tTraining Loss: 0.028905512 \tValidation Loss: 0.028497835\n",
      "Epoch 13 done in 1.20 seconds. \tTraining Loss: 0.028165460 \tValidation Loss: 0.027958144\n",
      "Epoch 14 done in 1.19 seconds. \tTraining Loss: 0.027717259 \tValidation Loss: 0.027599388\n",
      "Epoch 15 done in 1.19 seconds. \tTraining Loss: 0.027399656 \tValidation Loss: 0.027325444\n",
      "Epoch 16 done in 1.19 seconds. \tTraining Loss: 0.027139000 \tValidation Loss: 0.027091431\n",
      "Epoch 17 done in 1.20 seconds. \tTraining Loss: 0.026910979 \tValidation Loss: 0.026885747\n",
      "Epoch 18 done in 1.19 seconds. \tTraining Loss: 0.026708467 \tValidation Loss: 0.026701932\n",
      "Epoch 19 done in 1.20 seconds. \tTraining Loss: 0.026528168 \tValidation Loss: 0.026537983\n",
      "Epoch 20 done in 1.20 seconds. \tTraining Loss: 0.026368809 \tValidation Loss: 0.026394392\n",
      "Epoch 21 done in 1.39 seconds. \tTraining Loss: 0.026230668 \tValidation Loss: 0.026271718\n",
      "Epoch 22 done in 1.19 seconds. \tTraining Loss: 0.026112285 \tValidation Loss: 0.026167424\n",
      "Epoch 23 done in 1.19 seconds. \tTraining Loss: 0.026011013 \tValidation Loss: 0.026079142\n",
      "Epoch 24 done in 1.19 seconds. \tTraining Loss: 0.025924021 \tValidation Loss: 0.026003721\n",
      "Epoch 25 done in 1.20 seconds. \tTraining Loss: 0.025848069 \tValidation Loss: 0.025938117\n",
      "Epoch 26 done in 1.20 seconds. \tTraining Loss: 0.025780634 \tValidation Loss: 0.025880082\n",
      "Epoch 27 done in 1.20 seconds. \tTraining Loss: 0.025719961 \tValidation Loss: 0.025828425\n",
      "Epoch 28 done in 1.19 seconds. \tTraining Loss: 0.025664538 \tValidation Loss: 0.025780838\n",
      "Epoch 29 done in 1.19 seconds. \tTraining Loss: 0.025613250 \tValidation Loss: 0.025737265\n",
      "Epoch 30 done in 1.20 seconds. \tTraining Loss: 0.025565841 \tValidation Loss: 0.025696816\n",
      "Epoch 31 done in 1.19 seconds. \tTraining Loss: 0.025521348 \tValidation Loss: 0.025658450\n",
      "Epoch 32 done in 1.20 seconds. \tTraining Loss: 0.025479380 \tValidation Loss: 0.025622794\n",
      "Epoch 33 done in 1.20 seconds. \tTraining Loss: 0.025439854 \tValidation Loss: 0.025589166\n",
      "Epoch 34 done in 1.20 seconds. \tTraining Loss: 0.025402614 \tValidation Loss: 0.025557931\n",
      "Epoch 35 done in 1.20 seconds. \tTraining Loss: 0.025367308 \tValidation Loss: 0.025528135\n",
      "Epoch 36 done in 1.21 seconds. \tTraining Loss: 0.025333461 \tValidation Loss: 0.025500050\n",
      "Epoch 37 done in 1.20 seconds. \tTraining Loss: 0.025301283 \tValidation Loss: 0.025473463\n",
      "Epoch 38 done in 1.19 seconds. \tTraining Loss: 0.025270383 \tValidation Loss: 0.025448440\n",
      "Epoch 39 done in 1.20 seconds. \tTraining Loss: 0.025240742 \tValidation Loss: 0.025424467\n",
      "Epoch 40 done in 1.19 seconds. \tTraining Loss: 0.025212159 \tValidation Loss: 0.025401986\n",
      "Epoch 41 done in 1.19 seconds. \tTraining Loss: 0.025184711 \tValidation Loss: 0.025380303\n",
      "Epoch 42 done in 1.20 seconds. \tTraining Loss: 0.025158152 \tValidation Loss: 0.025359780\n",
      "Epoch 43 done in 1.20 seconds. \tTraining Loss: 0.025132559 \tValidation Loss: 0.025340209\n",
      "Epoch 44 done in 1.20 seconds. \tTraining Loss: 0.025107924 \tValidation Loss: 0.025321488\n",
      "Epoch 45 done in 1.20 seconds. \tTraining Loss: 0.025084251 \tValidation Loss: 0.025303690\n",
      "Epoch 46 done in 1.20 seconds. \tTraining Loss: 0.025061334 \tValidation Loss: 0.025286412\n",
      "Epoch 47 done in 1.20 seconds. \tTraining Loss: 0.025039142 \tValidation Loss: 0.025269835\n",
      "Epoch 48 done in 1.20 seconds. \tTraining Loss: 0.025017638 \tValidation Loss: 0.025253795\n",
      "Epoch 49 done in 1.20 seconds. \tTraining Loss: 0.024996861 \tValidation Loss: 0.025238342\n",
      "Epoch 50 done in 1.20 seconds. \tTraining Loss: 0.024976667 \tValidation Loss: 0.025223629\n",
      "Epoch 51 done in 1.20 seconds. \tTraining Loss: 0.024957129 \tValidation Loss: 0.025209506\n",
      "Epoch 52 done in 1.20 seconds. \tTraining Loss: 0.024938056 \tValidation Loss: 0.025195530\n",
      "Epoch 53 done in 1.20 seconds. \tTraining Loss: 0.024919495 \tValidation Loss: 0.025182409\n",
      "Epoch 54 done in 1.20 seconds. \tTraining Loss: 0.024901380 \tValidation Loss: 0.025169357\n"
     ]
    },
    {
     "ename": "KeyboardInterrupt",
     "evalue": "",
     "output_type": "error",
     "traceback": [
      "\u001b[1;31m---------------------------------------------------------------------------\u001b[0m",
      "\u001b[1;31mKeyboardInterrupt\u001b[0m                         Traceback (most recent call last)",
      "\u001b[1;32m<ipython-input-5-a7d3025aa7b5>\u001b[0m in \u001b[0;36m<module>\u001b[1;34m\u001b[0m\n\u001b[0;32m      1\u001b[0m train(model,dataset,n_epochs,batch_size,device,optimizer,criterion,\"best_model.pt\",\n\u001b[1;32m----> 2\u001b[1;33m      min_location,max_location,min_moment,max_moment)\n\u001b[0m",
      "\u001b[1;32m~\\Desktop\\Work\\nn-dipole-fitting\\Single_Dipole\\Python\\misc.py\u001b[0m in \u001b[0;36mtrain\u001b[1;34m(model, dataset, n_epochs, batch_size, device, optimizer, criterion, path_state_dict, min_location, max_location, min_moment, max_moment)\u001b[0m\n\u001b[0;32m     98\u001b[0m         \u001b[1;31m# Validate\u001b[0m\u001b[1;33m\u001b[0m\u001b[1;33m\u001b[0m\u001b[1;33m\u001b[0m\u001b[0m\n\u001b[0;32m     99\u001b[0m         valid_loss_epoch = valid_epoch(model,dataset.data_valid,batch_size,criterion,device,\n\u001b[1;32m--> 100\u001b[1;33m      min_location,max_location,min_moment,max_moment)\n\u001b[0m\u001b[0;32m    101\u001b[0m         \u001b[0mvalid_loss\u001b[0m\u001b[1;33m.\u001b[0m\u001b[0mappend\u001b[0m\u001b[1;33m(\u001b[0m\u001b[0mvalid_loss_epoch\u001b[0m\u001b[1;33m)\u001b[0m\u001b[1;33m\u001b[0m\u001b[1;33m\u001b[0m\u001b[0m\n\u001b[0;32m    102\u001b[0m         \u001b[1;31m# Save if validation loss is the lowest so far\u001b[0m\u001b[1;33m\u001b[0m\u001b[1;33m\u001b[0m\u001b[1;33m\u001b[0m\u001b[0m\n",
      "\u001b[1;32m~\\Desktop\\Work\\nn-dipole-fitting\\Single_Dipole\\Python\\misc.py\u001b[0m in \u001b[0;36mvalid_epoch\u001b[1;34m(model, data, batch_size, criterion, device, min_location, max_location, min_moment, max_moment)\u001b[0m\n\u001b[0;32m     77\u001b[0m             \u001b[0moutput\u001b[0m \u001b[1;33m=\u001b[0m \u001b[0mmodel\u001b[0m\u001b[1;33m(\u001b[0m\u001b[0mx\u001b[0m\u001b[1;33m)\u001b[0m\u001b[1;33m\u001b[0m\u001b[1;33m\u001b[0m\u001b[0m\n\u001b[0;32m     78\u001b[0m             \u001b[1;31m## update the average validation loss\u001b[0m\u001b[1;33m\u001b[0m\u001b[1;33m\u001b[0m\u001b[1;33m\u001b[0m\u001b[0m\n\u001b[1;32m---> 79\u001b[1;33m             \u001b[0mloss\u001b[0m \u001b[1;33m=\u001b[0m \u001b[0mcriterion\u001b[0m\u001b[1;33m(\u001b[0m\u001b[0mnormalize_dipole\u001b[0m\u001b[1;33m(\u001b[0m\u001b[0moutput\u001b[0m\u001b[1;33m,\u001b[0m\u001b[0mdata\u001b[0m\u001b[1;33m,\u001b[0m\u001b[0mdevice\u001b[0m\u001b[1;33m,\u001b[0m\u001b[0mmin_location\u001b[0m\u001b[1;33m,\u001b[0m\u001b[0mmax_location\u001b[0m\u001b[1;33m,\u001b[0m\u001b[0mmin_moment\u001b[0m\u001b[1;33m,\u001b[0m\u001b[0mmax_moment\u001b[0m\u001b[1;33m)\u001b[0m\u001b[1;33m,\u001b[0m \u001b[0mnormalize_dipole\u001b[0m\u001b[1;33m(\u001b[0m\u001b[0my\u001b[0m\u001b[1;33m,\u001b[0m\u001b[0mdata\u001b[0m\u001b[1;33m,\u001b[0m\u001b[0mdevice\u001b[0m\u001b[1;33m,\u001b[0m\u001b[0mmin_location\u001b[0m\u001b[1;33m,\u001b[0m\u001b[0mmax_location\u001b[0m\u001b[1;33m,\u001b[0m\u001b[0mmin_moment\u001b[0m\u001b[1;33m,\u001b[0m\u001b[0mmax_moment\u001b[0m\u001b[1;33m)\u001b[0m\u001b[1;33m)\u001b[0m\u001b[1;33m\u001b[0m\u001b[1;33m\u001b[0m\u001b[0m\n\u001b[0m\u001b[0;32m     80\u001b[0m             \u001b[0mvalid_loss\u001b[0m \u001b[1;33m+=\u001b[0m \u001b[0mloss\u001b[0m\u001b[1;33m.\u001b[0m\u001b[0mitem\u001b[0m\u001b[1;33m(\u001b[0m\u001b[1;33m)\u001b[0m \u001b[1;33m*\u001b[0m \u001b[0mx\u001b[0m\u001b[1;33m.\u001b[0m\u001b[0msize\u001b[0m\u001b[1;33m(\u001b[0m\u001b[1;36m0\u001b[0m\u001b[1;33m)\u001b[0m\u001b[1;33m\u001b[0m\u001b[1;33m\u001b[0m\u001b[0m\n\u001b[0;32m     81\u001b[0m     \u001b[0mvalid_loss\u001b[0m \u001b[1;33m=\u001b[0m \u001b[0mvalid_loss\u001b[0m \u001b[1;33m/\u001b[0m \u001b[0mdata\u001b[0m\u001b[1;33m[\u001b[0m\u001b[1;34m\"n_samples\"\u001b[0m\u001b[1;33m]\u001b[0m\u001b[1;33m\u001b[0m\u001b[1;33m\u001b[0m\u001b[0m\n",
      "\u001b[1;32m~\\Desktop\\Work\\nn-dipole-fitting\\Single_Dipole\\Python\\misc.py\u001b[0m in \u001b[0;36mnormalize_dipole\u001b[1;34m(dipoles, data, device, min_location, max_location, min_moment, max_moment)\u001b[0m\n\u001b[0;32m    135\u001b[0m     \u001b[0mout\u001b[0m \u001b[1;33m=\u001b[0m \u001b[0mtorch\u001b[0m\u001b[1;33m.\u001b[0m\u001b[0mzeros\u001b[0m\u001b[1;33m(\u001b[0m\u001b[0mdipoles\u001b[0m\u001b[1;33m.\u001b[0m\u001b[0msize\u001b[0m\u001b[1;33m(\u001b[0m\u001b[1;36m0\u001b[0m\u001b[1;33m)\u001b[0m\u001b[1;33m,\u001b[0m\u001b[1;36m6\u001b[0m\u001b[1;33m)\u001b[0m\u001b[1;33m\u001b[0m\u001b[1;33m\u001b[0m\u001b[0m\n\u001b[0;32m    136\u001b[0m     \u001b[0mout\u001b[0m\u001b[1;33m[\u001b[0m\u001b[1;33m:\u001b[0m\u001b[1;33m,\u001b[0m\u001b[1;33m:\u001b[0m\u001b[1;36m3\u001b[0m\u001b[1;33m]\u001b[0m \u001b[1;33m=\u001b[0m \u001b[1;33m(\u001b[0m\u001b[0mdipoles\u001b[0m\u001b[1;33m[\u001b[0m\u001b[1;33m:\u001b[0m\u001b[1;33m,\u001b[0m\u001b[1;33m:\u001b[0m\u001b[1;36m3\u001b[0m\u001b[1;33m]\u001b[0m \u001b[1;33m-\u001b[0m \u001b[0mmin_location\u001b[0m\u001b[1;33m)\u001b[0m \u001b[1;33m/\u001b[0m \u001b[1;33m(\u001b[0m\u001b[0mmax_location\u001b[0m \u001b[1;33m-\u001b[0m \u001b[0mmin_location\u001b[0m\u001b[1;33m)\u001b[0m\u001b[1;33m;\u001b[0m\u001b[1;33m\u001b[0m\u001b[1;33m\u001b[0m\u001b[0m\n\u001b[1;32m--> 137\u001b[1;33m     \u001b[0mout\u001b[0m\u001b[1;33m[\u001b[0m\u001b[1;33m:\u001b[0m\u001b[1;33m,\u001b[0m\u001b[1;36m3\u001b[0m\u001b[1;33m:\u001b[0m\u001b[1;33m]\u001b[0m \u001b[1;33m=\u001b[0m \u001b[1;33m(\u001b[0m\u001b[0mdipoles\u001b[0m\u001b[1;33m[\u001b[0m\u001b[1;33m:\u001b[0m\u001b[1;33m,\u001b[0m\u001b[1;36m3\u001b[0m\u001b[1;33m:\u001b[0m\u001b[1;33m]\u001b[0m \u001b[1;33m-\u001b[0m \u001b[0mmin_moment\u001b[0m\u001b[1;33m)\u001b[0m \u001b[1;33m/\u001b[0m \u001b[1;33m(\u001b[0m\u001b[0mmax_moment\u001b[0m \u001b[1;33m-\u001b[0m \u001b[0mmin_moment\u001b[0m\u001b[1;33m)\u001b[0m\u001b[1;33m;\u001b[0m\u001b[1;33m\u001b[0m\u001b[1;33m\u001b[0m\u001b[0m\n\u001b[0m\u001b[0;32m    138\u001b[0m     \u001b[1;32mreturn\u001b[0m \u001b[0mout\u001b[0m\u001b[1;33m\u001b[0m\u001b[1;33m\u001b[0m\u001b[0m\n\u001b[0;32m    139\u001b[0m \u001b[1;33m\u001b[0m\u001b[0m\n",
      "\u001b[1;31mKeyboardInterrupt\u001b[0m: "
     ]
    }
   ],
   "source": [
    "train(model,dataset,n_epochs,batch_size,device,optimizer,criterion,\"best_model.pt\",\n",
    "     min_location,max_location,min_moment,max_moment)"
   ]
  },
  {
   "cell_type": "code",
   "execution_count": null,
   "metadata": {},
   "outputs": [],
   "source": []
  }
 ],
 "metadata": {
  "kernelspec": {
   "display_name": "Python 3",
   "language": "python",
   "name": "python3"
  },
  "language_info": {
   "codemirror_mode": {
    "name": "ipython",
    "version": 3
   },
   "file_extension": ".py",
   "mimetype": "text/x-python",
   "name": "python",
   "nbconvert_exporter": "python",
   "pygments_lexer": "ipython3",
   "version": "3.7.2"
  }
 },
 "nbformat": 4,
 "nbformat_minor": 2
}
