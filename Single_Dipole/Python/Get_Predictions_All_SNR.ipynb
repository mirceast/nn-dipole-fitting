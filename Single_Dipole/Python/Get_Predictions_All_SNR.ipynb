{
 "cells": [
  {
   "cell_type": "code",
   "execution_count": 1,
   "metadata": {},
   "outputs": [
    {
     "name": "stdout",
     "output_type": "stream",
     "text": [
      "CUDA is available!  Training on GPU ...\n",
      "Using GeForce RTX 2070\n"
     ]
    }
   ],
   "source": [
    "from misc import *\n",
    "\n",
    "%load_ext autoreload\n",
    "%autoreload 2\n",
    "%matplotlib inline \n",
    "%config InlineBackend.figure_format = 'retina'\n",
    "\n",
    "n_epochs = 50\n",
    "sizes = [64,2048,1024,512,256,3]\n",
    "\n",
    "# Parameters for loading the .mat file\n",
    "data_dir = \"C:/Users/Mircea/Google Drive/Data/nn-dipole-fitting/\"\n",
    "path_test = [each.replace(\"\\\\\",\"/\") for each in glob(data_dir + \"Dataset SNR*.mat\")]\n",
    "path_model = get_model_name(useful_paths[\"trained\"],sizes,n_epochs)\n",
    "\n",
    "device = check_cuda()"
   ]
  },
  {
   "cell_type": "code",
   "execution_count": 2,
   "metadata": {},
   "outputs": [],
   "source": [
    "# Read the test data on all SNRs\n",
    "data_test = [read_test_data(each) for each in path_test]"
   ]
  },
  {
   "cell_type": "code",
   "execution_count": 3,
   "metadata": {},
   "outputs": [],
   "source": [
    "model, train_loss, valid_loss = load_model(path_model)\n",
    "model = model.to(device)"
   ]
  },
  {
   "cell_type": "code",
   "execution_count": 4,
   "metadata": {},
   "outputs": [],
   "source": [
    "dipoles_nn = [get_test_pred(each,device,model=model,snr=each[\"snr\"]) for each in data_test]\n",
    "dipoles_lm = [get_test_pred(each,device,pred_dipoles=each[\"dipoles_estimated\"],snr=each[\"snr\"]) for each in data_test]\n",
    "\n",
    "save_dict(dipoles_nn,useful_paths[\"analysis\"] + \"dipoles_nn.pickle\")\n",
    "save_dict(dipoles_lm,useful_paths[\"analysis\"] + \"dipoles_lm.pickle\")"
   ]
  },
  {
   "cell_type": "code",
   "execution_count": 5,
   "metadata": {},
   "outputs": [
    {
     "name": "stdout",
     "output_type": "stream",
     "text": [
      "Localization error SNR 0.1: | NN: 6.396 cm | LM: 10.099 cm \n",
      "Localization error SNR 0.5: | NN: 3.961 cm | LM: 5.229 cm \n",
      "Localization error SNR 1.0: | NN: 1.841 cm | LM: 2.079 cm \n",
      "Localization error SNR 2.0: | NN: 0.907 cm | LM: 0.952 cm \n",
      "Localization error SNR 5.0: | NN: 0.390 cm | LM: 0.359 cm \n",
      "Localization error SNR 10.0: | NN: 0.242 cm | LM: 0.179 cm \n"
     ]
    }
   ],
   "source": [
    "for i in range(len(dipoles_nn)):\n",
    "    print(\"Localization error SNR {:.1f}: | NN: {:.3f} cm | LM: {:.3f} cm \".format(\n",
    "            dipoles_nn[i][\"snr\"],\n",
    "            np.mean(dipoles_nn[i][\"loc_err\"]),\n",
    "            np.mean(dipoles_lm[i][\"loc_err\"])))"
   ]
  }
 ],
 "metadata": {
  "kernelspec": {
   "display_name": "Python 3",
   "language": "python",
   "name": "python3"
  },
  "language_info": {
   "codemirror_mode": {
    "name": "ipython",
    "version": 3
   },
   "file_extension": ".py",
   "mimetype": "text/x-python",
   "name": "python",
   "nbconvert_exporter": "python",
   "pygments_lexer": "ipython3",
   "version": "3.7.2"
  }
 },
 "nbformat": 4,
 "nbformat_minor": 2
}
